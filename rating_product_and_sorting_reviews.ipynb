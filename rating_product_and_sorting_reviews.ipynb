{
 "cells": [
  {
   "cell_type": "code",
   "execution_count": 1,
   "metadata": {
    "execution": {
     "iopub.execute_input": "2022-11-01T10:41:34.585914Z",
     "iopub.status.busy": "2022-11-01T10:41:34.585127Z",
     "iopub.status.idle": "2022-11-01T10:41:35.477499Z",
     "shell.execute_reply": "2022-11-01T10:41:35.476380Z"
    },
    "papermill": {
     "duration": 0.904075,
     "end_time": "2022-11-01T10:41:35.480379",
     "exception": false,
     "start_time": "2022-11-01T10:41:34.576304",
     "status": "completed"
    },
    "tags": []
   },
   "outputs": [],
   "source": [
    "import pandas as pd\n",
    "import math\n",
    "import scipy.stats as st"
   ]
  },
  {
   "cell_type": "code",
   "execution_count": 2,
   "metadata": {
    "execution": {
     "iopub.execute_input": "2022-11-01T10:41:35.500752Z",
     "iopub.status.busy": "2022-11-01T10:41:35.500023Z",
     "iopub.status.idle": "2022-11-01T10:41:35.598850Z",
     "shell.execute_reply": "2022-11-01T10:41:35.597990Z"
    },
    "papermill": {
     "duration": 0.110669,
     "end_time": "2022-11-01T10:41:35.601538",
     "exception": false,
     "start_time": "2022-11-01T10:41:35.490869",
     "status": "completed"
    },
    "tags": []
   },
   "outputs": [],
   "source": [
    "df_ = pd.read_csv(\"../input/amazon-review/amazon_review.csv\")\n",
    "df = df_.copy()"
   ]
  },
  {
   "cell_type": "code",
   "execution_count": 3,
   "metadata": {
    "execution": {
     "iopub.execute_input": "2022-11-01T10:41:35.617830Z",
     "iopub.status.busy": "2022-11-01T10:41:35.617393Z",
     "iopub.status.idle": "2022-11-01T10:41:35.752178Z",
     "shell.execute_reply": "2022-11-01T10:41:35.750977Z"
    },
    "papermill": {
     "duration": 0.146486,
     "end_time": "2022-11-01T10:41:35.755193",
     "exception": false,
     "start_time": "2022-11-01T10:41:35.608707",
     "status": "completed"
    },
    "tags": []
   },
   "outputs": [
    {
     "data": {
      "text/html": [
       "<div>\n",
       "<style scoped>\n",
       "    .dataframe tbody tr th:only-of-type {\n",
       "        vertical-align: middle;\n",
       "    }\n",
       "\n",
       "    .dataframe tbody tr th {\n",
       "        vertical-align: top;\n",
       "    }\n",
       "\n",
       "    .dataframe thead th {\n",
       "        text-align: right;\n",
       "    }\n",
       "</style>\n",
       "<table border=\"1\" class=\"dataframe\">\n",
       "  <thead>\n",
       "    <tr style=\"text-align: right;\">\n",
       "      <th></th>\n",
       "      <th>reviewerID</th>\n",
       "      <th>asin</th>\n",
       "      <th>reviewerName</th>\n",
       "      <th>helpful</th>\n",
       "      <th>reviewText</th>\n",
       "      <th>overall</th>\n",
       "      <th>summary</th>\n",
       "      <th>unixReviewTime</th>\n",
       "      <th>reviewTime</th>\n",
       "      <th>day_diff</th>\n",
       "      <th>helpful_yes</th>\n",
       "      <th>total_vote</th>\n",
       "    </tr>\n",
       "  </thead>\n",
       "  <tbody>\n",
       "    <tr>\n",
       "      <th>0</th>\n",
       "      <td>A3SBTW3WS4IQSN</td>\n",
       "      <td>B007WTAJTO</td>\n",
       "      <td>NaN</td>\n",
       "      <td>[0, 0]</td>\n",
       "      <td>No issues.</td>\n",
       "      <td>4.0</td>\n",
       "      <td>Four Stars</td>\n",
       "      <td>1406073600</td>\n",
       "      <td>2014-07-23</td>\n",
       "      <td>138</td>\n",
       "      <td>0</td>\n",
       "      <td>0</td>\n",
       "    </tr>\n",
       "    <tr>\n",
       "      <th>1</th>\n",
       "      <td>A18K1ODH1I2MVB</td>\n",
       "      <td>B007WTAJTO</td>\n",
       "      <td>0mie</td>\n",
       "      <td>[0, 0]</td>\n",
       "      <td>Purchased this for my device, it worked as adv...</td>\n",
       "      <td>5.0</td>\n",
       "      <td>MOAR SPACE!!!</td>\n",
       "      <td>1382659200</td>\n",
       "      <td>2013-10-25</td>\n",
       "      <td>409</td>\n",
       "      <td>0</td>\n",
       "      <td>0</td>\n",
       "    </tr>\n",
       "    <tr>\n",
       "      <th>2</th>\n",
       "      <td>A2FII3I2MBMUIA</td>\n",
       "      <td>B007WTAJTO</td>\n",
       "      <td>1K3</td>\n",
       "      <td>[0, 0]</td>\n",
       "      <td>it works as expected. I should have sprung for...</td>\n",
       "      <td>4.0</td>\n",
       "      <td>nothing to really say....</td>\n",
       "      <td>1356220800</td>\n",
       "      <td>2012-12-23</td>\n",
       "      <td>715</td>\n",
       "      <td>0</td>\n",
       "      <td>0</td>\n",
       "    </tr>\n",
       "    <tr>\n",
       "      <th>3</th>\n",
       "      <td>A3H99DFEG68SR</td>\n",
       "      <td>B007WTAJTO</td>\n",
       "      <td>1m2</td>\n",
       "      <td>[0, 0]</td>\n",
       "      <td>This think has worked out great.Had a diff. br...</td>\n",
       "      <td>5.0</td>\n",
       "      <td>Great buy at this price!!!  *** UPDATE</td>\n",
       "      <td>1384992000</td>\n",
       "      <td>2013-11-21</td>\n",
       "      <td>382</td>\n",
       "      <td>0</td>\n",
       "      <td>0</td>\n",
       "    </tr>\n",
       "    <tr>\n",
       "      <th>4</th>\n",
       "      <td>A375ZM4U047O79</td>\n",
       "      <td>B007WTAJTO</td>\n",
       "      <td>2&amp;amp;1/2Men</td>\n",
       "      <td>[0, 0]</td>\n",
       "      <td>Bought it with Retail Packaging, arrived legit...</td>\n",
       "      <td>5.0</td>\n",
       "      <td>best deal around</td>\n",
       "      <td>1373673600</td>\n",
       "      <td>2013-07-13</td>\n",
       "      <td>513</td>\n",
       "      <td>0</td>\n",
       "      <td>0</td>\n",
       "    </tr>\n",
       "  </tbody>\n",
       "</table>\n",
       "</div>"
      ],
      "text/plain": [
       "       reviewerID        asin  reviewerName helpful  \\\n",
       "0  A3SBTW3WS4IQSN  B007WTAJTO           NaN  [0, 0]   \n",
       "1  A18K1ODH1I2MVB  B007WTAJTO          0mie  [0, 0]   \n",
       "2  A2FII3I2MBMUIA  B007WTAJTO           1K3  [0, 0]   \n",
       "3   A3H99DFEG68SR  B007WTAJTO           1m2  [0, 0]   \n",
       "4  A375ZM4U047O79  B007WTAJTO  2&amp;1/2Men  [0, 0]   \n",
       "\n",
       "                                          reviewText  overall  \\\n",
       "0                                         No issues.      4.0   \n",
       "1  Purchased this for my device, it worked as adv...      5.0   \n",
       "2  it works as expected. I should have sprung for...      4.0   \n",
       "3  This think has worked out great.Had a diff. br...      5.0   \n",
       "4  Bought it with Retail Packaging, arrived legit...      5.0   \n",
       "\n",
       "                                  summary  unixReviewTime  reviewTime  \\\n",
       "0                              Four Stars      1406073600  2014-07-23   \n",
       "1                           MOAR SPACE!!!      1382659200  2013-10-25   \n",
       "2               nothing to really say....      1356220800  2012-12-23   \n",
       "3  Great buy at this price!!!  *** UPDATE      1384992000  2013-11-21   \n",
       "4                        best deal around      1373673600  2013-07-13   \n",
       "\n",
       "   day_diff  helpful_yes  total_vote  \n",
       "0       138            0           0  \n",
       "1       409            0           0  \n",
       "2       715            0           0  \n",
       "3       382            0           0  \n",
       "4       513            0           0  "
      ]
     },
     "execution_count": 3,
     "metadata": {},
     "output_type": "execute_result"
    }
   ],
   "source": [
    "df.head()"
   ]
  },
  {
   "cell_type": "code",
   "execution_count": 4,
   "metadata": {
    "execution": {
     "iopub.execute_input": "2022-11-01T10:41:35.771768Z",
     "iopub.status.busy": "2022-11-01T10:41:35.771318Z",
     "iopub.status.idle": "2022-11-01T10:41:35.779365Z",
     "shell.execute_reply": "2022-11-01T10:41:35.778147Z"
    },
    "papermill": {
     "duration": 0.019288,
     "end_time": "2022-11-01T10:41:35.781803",
     "exception": false,
     "start_time": "2022-11-01T10:41:35.762515",
     "status": "completed"
    },
    "tags": []
   },
   "outputs": [
    {
     "data": {
      "text/plain": [
       "Index(['reviewerID', 'asin', 'reviewerName', 'helpful', 'reviewText',\n",
       "       'overall', 'summary', 'unixReviewTime', 'reviewTime', 'day_diff',\n",
       "       'helpful_yes', 'total_vote'],\n",
       "      dtype='object')"
      ]
     },
     "execution_count": 4,
     "metadata": {},
     "output_type": "execute_result"
    }
   ],
   "source": [
    "df.columns"
   ]
  },
  {
   "cell_type": "code",
   "execution_count": 5,
   "metadata": {
    "execution": {
     "iopub.execute_input": "2022-11-01T10:41:35.799737Z",
     "iopub.status.busy": "2022-11-01T10:41:35.799364Z",
     "iopub.status.idle": "2022-11-01T10:41:35.806429Z",
     "shell.execute_reply": "2022-11-01T10:41:35.805305Z"
    },
    "papermill": {
     "duration": 0.019642,
     "end_time": "2022-11-01T10:41:35.808878",
     "exception": false,
     "start_time": "2022-11-01T10:41:35.789236",
     "status": "completed"
    },
    "tags": []
   },
   "outputs": [
    {
     "data": {
      "text/plain": [
       "(4915, 12)"
      ]
     },
     "execution_count": 5,
     "metadata": {},
     "output_type": "execute_result"
    }
   ],
   "source": [
    "df.shape"
   ]
  },
  {
   "cell_type": "code",
   "execution_count": 6,
   "metadata": {
    "execution": {
     "iopub.execute_input": "2022-11-01T10:41:35.829189Z",
     "iopub.status.busy": "2022-11-01T10:41:35.827988Z",
     "iopub.status.idle": "2022-11-01T10:41:35.859627Z",
     "shell.execute_reply": "2022-11-01T10:41:35.858075Z"
    },
    "papermill": {
     "duration": 0.044645,
     "end_time": "2022-11-01T10:41:35.862552",
     "exception": false,
     "start_time": "2022-11-01T10:41:35.817907",
     "status": "completed"
    },
    "tags": []
   },
   "outputs": [
    {
     "name": "stdout",
     "output_type": "stream",
     "text": [
      "<class 'pandas.core.frame.DataFrame'>\n",
      "RangeIndex: 4915 entries, 0 to 4914\n",
      "Data columns (total 12 columns):\n",
      " #   Column          Non-Null Count  Dtype  \n",
      "---  ------          --------------  -----  \n",
      " 0   reviewerID      4915 non-null   object \n",
      " 1   asin            4915 non-null   object \n",
      " 2   reviewerName    4914 non-null   object \n",
      " 3   helpful         4915 non-null   object \n",
      " 4   reviewText      4914 non-null   object \n",
      " 5   overall         4915 non-null   float64\n",
      " 6   summary         4915 non-null   object \n",
      " 7   unixReviewTime  4915 non-null   int64  \n",
      " 8   reviewTime      4915 non-null   object \n",
      " 9   day_diff        4915 non-null   int64  \n",
      " 10  helpful_yes     4915 non-null   int64  \n",
      " 11  total_vote      4915 non-null   int64  \n",
      "dtypes: float64(1), int64(4), object(7)\n",
      "memory usage: 460.9+ KB\n"
     ]
    }
   ],
   "source": [
    "df.info()"
   ]
  },
  {
   "cell_type": "code",
   "execution_count": 7,
   "metadata": {
    "execution": {
     "iopub.execute_input": "2022-11-01T10:41:35.881918Z",
     "iopub.status.busy": "2022-11-01T10:41:35.881000Z",
     "iopub.status.idle": "2022-11-01T10:41:35.895257Z",
     "shell.execute_reply": "2022-11-01T10:41:35.893963Z"
    },
    "papermill": {
     "duration": 0.026219,
     "end_time": "2022-11-01T10:41:35.897492",
     "exception": false,
     "start_time": "2022-11-01T10:41:35.871273",
     "status": "completed"
    },
    "tags": []
   },
   "outputs": [
    {
     "data": {
      "text/plain": [
       "reviewerID        0\n",
       "asin              0\n",
       "reviewerName      1\n",
       "helpful           0\n",
       "reviewText        1\n",
       "overall           0\n",
       "summary           0\n",
       "unixReviewTime    0\n",
       "reviewTime        0\n",
       "day_diff          0\n",
       "helpful_yes       0\n",
       "total_vote        0\n",
       "dtype: int64"
      ]
     },
     "execution_count": 7,
     "metadata": {},
     "output_type": "execute_result"
    }
   ],
   "source": [
    "df.isnull().sum()"
   ]
  },
  {
   "cell_type": "code",
   "execution_count": 8,
   "metadata": {
    "execution": {
     "iopub.execute_input": "2022-11-01T10:41:35.921953Z",
     "iopub.status.busy": "2022-11-01T10:41:35.921515Z",
     "iopub.status.idle": "2022-11-01T10:41:35.929942Z",
     "shell.execute_reply": "2022-11-01T10:41:35.928947Z"
    },
    "papermill": {
     "duration": 0.02312,
     "end_time": "2022-11-01T10:41:35.932131",
     "exception": false,
     "start_time": "2022-11-01T10:41:35.909011",
     "status": "completed"
    },
    "tags": []
   },
   "outputs": [
    {
     "data": {
      "text/plain": [
       "1"
      ]
     },
     "execution_count": 8,
     "metadata": {},
     "output_type": "execute_result"
    }
   ],
   "source": [
    "df[\"asin\"].nunique()"
   ]
  },
  {
   "cell_type": "markdown",
   "metadata": {
    "papermill": {
     "duration": 0.007868,
     "end_time": "2022-11-01T10:41:35.948685",
     "exception": false,
     "start_time": "2022-11-01T10:41:35.940817",
     "status": "completed"
    },
    "tags": []
   },
   "source": [
    "**The average score of the product was calculated.**"
   ]
  },
  {
   "cell_type": "code",
   "execution_count": 9,
   "metadata": {
    "execution": {
     "iopub.execute_input": "2022-11-01T10:41:35.966664Z",
     "iopub.status.busy": "2022-11-01T10:41:35.966271Z",
     "iopub.status.idle": "2022-11-01T10:41:35.973825Z",
     "shell.execute_reply": "2022-11-01T10:41:35.972646Z"
    },
    "papermill": {
     "duration": 0.019361,
     "end_time": "2022-11-01T10:41:35.976170",
     "exception": false,
     "start_time": "2022-11-01T10:41:35.956809",
     "status": "completed"
    },
    "tags": []
   },
   "outputs": [
    {
     "data": {
      "text/plain": [
       "4.587589013224822"
      ]
     },
     "execution_count": 9,
     "metadata": {},
     "output_type": "execute_result"
    }
   ],
   "source": [
    "df[\"overall\"].mean()"
   ]
  },
  {
   "cell_type": "markdown",
   "metadata": {
    "papermill": {
     "duration": 0.0079,
     "end_time": "2022-11-01T10:41:35.992219",
     "exception": false,
     "start_time": "2022-11-01T10:41:35.984319",
     "status": "completed"
    },
    "tags": []
   },
   "source": [
    "**The weighted average score was calculated by date. The dates were divided into quarters and then weighted according to these values.**"
   ]
  },
  {
   "cell_type": "code",
   "execution_count": 10,
   "metadata": {
    "execution": {
     "iopub.execute_input": "2022-11-01T10:41:36.010318Z",
     "iopub.status.busy": "2022-11-01T10:41:36.009939Z",
     "iopub.status.idle": "2022-11-01T10:41:36.019904Z",
     "shell.execute_reply": "2022-11-01T10:41:36.018765Z"
    },
    "papermill": {
     "duration": 0.022093,
     "end_time": "2022-11-01T10:41:36.022393",
     "exception": false,
     "start_time": "2022-11-01T10:41:36.000300",
     "status": "completed"
    },
    "tags": []
   },
   "outputs": [
    {
     "data": {
      "text/plain": [
       "(281.0, 431.0, 601.0)"
      ]
     },
     "execution_count": 10,
     "metadata": {},
     "output_type": "execute_result"
    }
   ],
   "source": [
    "a,b,c = df[\"day_diff\"].quantile([0.25,0.50,0.75])\n",
    "a,b,c"
   ]
  },
  {
   "cell_type": "code",
   "execution_count": 11,
   "metadata": {
    "execution": {
     "iopub.execute_input": "2022-11-01T10:41:36.041108Z",
     "iopub.status.busy": "2022-11-01T10:41:36.040675Z",
     "iopub.status.idle": "2022-11-01T10:41:36.057732Z",
     "shell.execute_reply": "2022-11-01T10:41:36.056657Z"
    },
    "papermill": {
     "duration": 0.029054,
     "end_time": "2022-11-01T10:41:36.060054",
     "exception": false,
     "start_time": "2022-11-01T10:41:36.031000",
     "status": "completed"
    },
    "tags": []
   },
   "outputs": [
    {
     "data": {
      "text/plain": [
       "4.595593165128118"
      ]
     },
     "execution_count": 11,
     "metadata": {},
     "output_type": "execute_result"
    }
   ],
   "source": [
    "df[df[\"day_diff\"] <= a][\"overall\"].mean() * 28/100 + \\\n",
    "    df[(df[\"day_diff\"] > a) & (df[\"day_diff\"] <= b)][\"overall\"].mean() * 26/100 + \\\n",
    "    df[(df[\"day_diff\"] > b) & (df[\"day_diff\"] <= c)][\"overall\"].mean() * 24/100 + \\\n",
    "    df[df[\"day_diff\"] > c][\"overall\"].mean() * 22/100"
   ]
  },
  {
   "cell_type": "code",
   "execution_count": 12,
   "metadata": {
    "execution": {
     "iopub.execute_input": "2022-11-01T10:41:36.078478Z",
     "iopub.status.busy": "2022-11-01T10:41:36.078089Z",
     "iopub.status.idle": "2022-11-01T10:41:36.093582Z",
     "shell.execute_reply": "2022-11-01T10:41:36.092092Z"
    },
    "papermill": {
     "duration": 0.028705,
     "end_time": "2022-11-01T10:41:36.097013",
     "exception": false,
     "start_time": "2022-11-01T10:41:36.068308",
     "status": "completed"
    },
    "tags": []
   },
   "outputs": [
    {
     "name": "stdout",
     "output_type": "stream",
     "text": [
      "Average score between 0-281 days:  4.6957928802588995\n",
      "Average score between 282-431 days:  4.636140637775961\n",
      "Average score between 432-601 days:  4.571661237785016\n",
      "Average score over 601 days:  4.4462540716612375\n"
     ]
    }
   ],
   "source": [
    "print(f\"Average score between 0-281 days: \", df[df[\"day_diff\"] <= a][\"overall\"].mean())    \n",
    "print(f\"Average score between 282-431 days: \", df[(df[\"day_diff\"] > a) & (df[\"day_diff\"] <= b)][\"overall\"].mean()) \n",
    "print(f\"Average score between 432-601 days: \", df[(df[\"day_diff\"] > b) & (df[\"day_diff\"] <= c)][\"overall\"].mean()) \n",
    "print(f\"Average score over 601 days: \", df[df[\"day_diff\"] > c][\"overall\"].mean()) "
   ]
  },
  {
   "cell_type": "markdown",
   "metadata": {
    "papermill": {
     "duration": 0.007991,
     "end_time": "2022-11-01T10:41:36.114319",
     "exception": false,
     "start_time": "2022-11-01T10:41:36.106328",
     "status": "completed"
    },
    "tags": []
   },
   "source": [
    "**The number of unhelpful votes (helpful_no) was calculated by subtracting the number of helpful votes (helpful_yes) from the total number of votes (total_vote).**"
   ]
  },
  {
   "cell_type": "code",
   "execution_count": 13,
   "metadata": {
    "execution": {
     "iopub.execute_input": "2022-11-01T10:41:36.133126Z",
     "iopub.status.busy": "2022-11-01T10:41:36.132696Z",
     "iopub.status.idle": "2022-11-01T10:41:36.139001Z",
     "shell.execute_reply": "2022-11-01T10:41:36.137681Z"
    },
    "papermill": {
     "duration": 0.018712,
     "end_time": "2022-11-01T10:41:36.141397",
     "exception": false,
     "start_time": "2022-11-01T10:41:36.122685",
     "status": "completed"
    },
    "tags": []
   },
   "outputs": [],
   "source": [
    "df[\"helpful_no\"] = df[\"total_vote\"] - df[\"helpful_yes\"]"
   ]
  },
  {
   "cell_type": "code",
   "execution_count": 14,
   "metadata": {
    "execution": {
     "iopub.execute_input": "2022-11-01T10:41:36.160439Z",
     "iopub.status.busy": "2022-11-01T10:41:36.160036Z",
     "iopub.status.idle": "2022-11-01T10:41:36.188142Z",
     "shell.execute_reply": "2022-11-01T10:41:36.186427Z"
    },
    "papermill": {
     "duration": 0.040864,
     "end_time": "2022-11-01T10:41:36.190705",
     "exception": false,
     "start_time": "2022-11-01T10:41:36.149841",
     "status": "completed"
    },
    "tags": []
   },
   "outputs": [
    {
     "data": {
      "text/html": [
       "<div>\n",
       "<style scoped>\n",
       "    .dataframe tbody tr th:only-of-type {\n",
       "        vertical-align: middle;\n",
       "    }\n",
       "\n",
       "    .dataframe tbody tr th {\n",
       "        vertical-align: top;\n",
       "    }\n",
       "\n",
       "    .dataframe thead th {\n",
       "        text-align: right;\n",
       "    }\n",
       "</style>\n",
       "<table border=\"1\" class=\"dataframe\">\n",
       "  <thead>\n",
       "    <tr style=\"text-align: right;\">\n",
       "      <th></th>\n",
       "      <th>reviewerID</th>\n",
       "      <th>asin</th>\n",
       "      <th>reviewerName</th>\n",
       "      <th>helpful</th>\n",
       "      <th>reviewText</th>\n",
       "      <th>overall</th>\n",
       "      <th>summary</th>\n",
       "      <th>unixReviewTime</th>\n",
       "      <th>reviewTime</th>\n",
       "      <th>day_diff</th>\n",
       "      <th>helpful_yes</th>\n",
       "      <th>total_vote</th>\n",
       "      <th>helpful_no</th>\n",
       "    </tr>\n",
       "  </thead>\n",
       "  <tbody>\n",
       "    <tr>\n",
       "      <th>0</th>\n",
       "      <td>A3SBTW3WS4IQSN</td>\n",
       "      <td>B007WTAJTO</td>\n",
       "      <td>NaN</td>\n",
       "      <td>[0, 0]</td>\n",
       "      <td>No issues.</td>\n",
       "      <td>4.0</td>\n",
       "      <td>Four Stars</td>\n",
       "      <td>1406073600</td>\n",
       "      <td>2014-07-23</td>\n",
       "      <td>138</td>\n",
       "      <td>0</td>\n",
       "      <td>0</td>\n",
       "      <td>0</td>\n",
       "    </tr>\n",
       "    <tr>\n",
       "      <th>1</th>\n",
       "      <td>A18K1ODH1I2MVB</td>\n",
       "      <td>B007WTAJTO</td>\n",
       "      <td>0mie</td>\n",
       "      <td>[0, 0]</td>\n",
       "      <td>Purchased this for my device, it worked as adv...</td>\n",
       "      <td>5.0</td>\n",
       "      <td>MOAR SPACE!!!</td>\n",
       "      <td>1382659200</td>\n",
       "      <td>2013-10-25</td>\n",
       "      <td>409</td>\n",
       "      <td>0</td>\n",
       "      <td>0</td>\n",
       "      <td>0</td>\n",
       "    </tr>\n",
       "    <tr>\n",
       "      <th>2</th>\n",
       "      <td>A2FII3I2MBMUIA</td>\n",
       "      <td>B007WTAJTO</td>\n",
       "      <td>1K3</td>\n",
       "      <td>[0, 0]</td>\n",
       "      <td>it works as expected. I should have sprung for...</td>\n",
       "      <td>4.0</td>\n",
       "      <td>nothing to really say....</td>\n",
       "      <td>1356220800</td>\n",
       "      <td>2012-12-23</td>\n",
       "      <td>715</td>\n",
       "      <td>0</td>\n",
       "      <td>0</td>\n",
       "      <td>0</td>\n",
       "    </tr>\n",
       "    <tr>\n",
       "      <th>3</th>\n",
       "      <td>A3H99DFEG68SR</td>\n",
       "      <td>B007WTAJTO</td>\n",
       "      <td>1m2</td>\n",
       "      <td>[0, 0]</td>\n",
       "      <td>This think has worked out great.Had a diff. br...</td>\n",
       "      <td>5.0</td>\n",
       "      <td>Great buy at this price!!!  *** UPDATE</td>\n",
       "      <td>1384992000</td>\n",
       "      <td>2013-11-21</td>\n",
       "      <td>382</td>\n",
       "      <td>0</td>\n",
       "      <td>0</td>\n",
       "      <td>0</td>\n",
       "    </tr>\n",
       "    <tr>\n",
       "      <th>4</th>\n",
       "      <td>A375ZM4U047O79</td>\n",
       "      <td>B007WTAJTO</td>\n",
       "      <td>2&amp;amp;1/2Men</td>\n",
       "      <td>[0, 0]</td>\n",
       "      <td>Bought it with Retail Packaging, arrived legit...</td>\n",
       "      <td>5.0</td>\n",
       "      <td>best deal around</td>\n",
       "      <td>1373673600</td>\n",
       "      <td>2013-07-13</td>\n",
       "      <td>513</td>\n",
       "      <td>0</td>\n",
       "      <td>0</td>\n",
       "      <td>0</td>\n",
       "    </tr>\n",
       "  </tbody>\n",
       "</table>\n",
       "</div>"
      ],
      "text/plain": [
       "       reviewerID        asin  reviewerName helpful  \\\n",
       "0  A3SBTW3WS4IQSN  B007WTAJTO           NaN  [0, 0]   \n",
       "1  A18K1ODH1I2MVB  B007WTAJTO          0mie  [0, 0]   \n",
       "2  A2FII3I2MBMUIA  B007WTAJTO           1K3  [0, 0]   \n",
       "3   A3H99DFEG68SR  B007WTAJTO           1m2  [0, 0]   \n",
       "4  A375ZM4U047O79  B007WTAJTO  2&amp;1/2Men  [0, 0]   \n",
       "\n",
       "                                          reviewText  overall  \\\n",
       "0                                         No issues.      4.0   \n",
       "1  Purchased this for my device, it worked as adv...      5.0   \n",
       "2  it works as expected. I should have sprung for...      4.0   \n",
       "3  This think has worked out great.Had a diff. br...      5.0   \n",
       "4  Bought it with Retail Packaging, arrived legit...      5.0   \n",
       "\n",
       "                                  summary  unixReviewTime  reviewTime  \\\n",
       "0                              Four Stars      1406073600  2014-07-23   \n",
       "1                           MOAR SPACE!!!      1382659200  2013-10-25   \n",
       "2               nothing to really say....      1356220800  2012-12-23   \n",
       "3  Great buy at this price!!!  *** UPDATE      1384992000  2013-11-21   \n",
       "4                        best deal around      1373673600  2013-07-13   \n",
       "\n",
       "   day_diff  helpful_yes  total_vote  helpful_no  \n",
       "0       138            0           0           0  \n",
       "1       409            0           0           0  \n",
       "2       715            0           0           0  \n",
       "3       382            0           0           0  \n",
       "4       513            0           0           0  "
      ]
     },
     "execution_count": 14,
     "metadata": {},
     "output_type": "execute_result"
    }
   ],
   "source": [
    "df.head()"
   ]
  },
  {
   "cell_type": "markdown",
   "metadata": {
    "papermill": {
     "duration": 0.009648,
     "end_time": "2022-11-01T10:41:36.212041",
     "exception": false,
     "start_time": "2022-11-01T10:41:36.202393",
     "status": "completed"
    },
    "tags": []
   },
   "source": [
    "**The score_pos_neg_diff function is defined. In this function, the number of review's being found useful is subtracted from the number of review's not being found useful. Here, frequency information is based on, but ratio information is ignored.**"
   ]
  },
  {
   "cell_type": "code",
   "execution_count": 15,
   "metadata": {
    "execution": {
     "iopub.execute_input": "2022-11-01T10:41:36.231953Z",
     "iopub.status.busy": "2022-11-01T10:41:36.231495Z",
     "iopub.status.idle": "2022-11-01T10:41:36.236706Z",
     "shell.execute_reply": "2022-11-01T10:41:36.235490Z"
    },
    "papermill": {
     "duration": 0.018049,
     "end_time": "2022-11-01T10:41:36.239203",
     "exception": false,
     "start_time": "2022-11-01T10:41:36.221154",
     "status": "completed"
    },
    "tags": []
   },
   "outputs": [],
   "source": [
    "def score_pos_neg_diff(pos,neg):\n",
    "    return (pos - neg)"
   ]
  },
  {
   "cell_type": "markdown",
   "metadata": {
    "papermill": {
     "duration": 0.010827,
     "end_time": "2022-11-01T10:41:36.259924",
     "exception": false,
     "start_time": "2022-11-01T10:41:36.249097",
     "status": "completed"
    },
    "tags": []
   },
   "source": [
    "**The score_average_rating function is defined. In this function, the number of review's being found useful is divided by the total number of votes. Thus, a ratio information was obtained. Unlike the function above, the ratio information is based here, but the frequency information is ignored.**"
   ]
  },
  {
   "cell_type": "code",
   "execution_count": 16,
   "metadata": {
    "execution": {
     "iopub.execute_input": "2022-11-01T10:41:36.280009Z",
     "iopub.status.busy": "2022-11-01T10:41:36.279149Z",
     "iopub.status.idle": "2022-11-01T10:41:36.284805Z",
     "shell.execute_reply": "2022-11-01T10:41:36.283960Z"
    },
    "papermill": {
     "duration": 0.018159,
     "end_time": "2022-11-01T10:41:36.287131",
     "exception": false,
     "start_time": "2022-11-01T10:41:36.268972",
     "status": "completed"
    },
    "tags": []
   },
   "outputs": [],
   "source": [
    "def score_average_rating(pos,neg):\n",
    "    if (pos + neg) == 0:\n",
    "        return 0\n",
    "    else:\n",
    "        return pos / (pos + neg)"
   ]
  },
  {
   "cell_type": "markdown",
   "metadata": {
    "papermill": {
     "duration": 0.008438,
     "end_time": "2022-11-01T10:41:36.304208",
     "exception": false,
     "start_time": "2022-11-01T10:41:36.295770",
     "status": "completed"
    },
    "tags": []
   },
   "source": [
    "**the wilson_lower_bound function is defined. This method gives us the opportunity to score any item, review, etc. that offers dual interactions. In other words, Lower bound of Wilson score confidence interval for a Bernoulli parameter provides a way to sort a product based on positive and negative ratings. Bernoulli is a distribution used to calculate the probability of binary events (good-bad, positive-negative, successful-unsuccessful). If the scores are between 1-5, 1-3 are marked as negative, 4-5 as positive and can be made to conform to Bernoulli.**"
   ]
  },
  {
   "cell_type": "code",
   "execution_count": 17,
   "metadata": {
    "execution": {
     "iopub.execute_input": "2022-11-01T10:41:36.323661Z",
     "iopub.status.busy": "2022-11-01T10:41:36.322895Z",
     "iopub.status.idle": "2022-11-01T10:41:36.329586Z",
     "shell.execute_reply": "2022-11-01T10:41:36.328848Z"
    },
    "papermill": {
     "duration": 0.018847,
     "end_time": "2022-11-01T10:41:36.331694",
     "exception": false,
     "start_time": "2022-11-01T10:41:36.312847",
     "status": "completed"
    },
    "tags": []
   },
   "outputs": [],
   "source": [
    "def wilson_lower_bound(pos, neg, confidence=0.95):\n",
    "    n = pos + neg\n",
    "    if n == 0:\n",
    "        return 0\n",
    "    z = st.norm.ppf(1 - (1 - confidence) / 2)\n",
    "    phat = 1.0 * pos / n\n",
    "    return (phat + z * z / (2 * n) - z * math.sqrt((phat * (1 - phat) + z * z / (4 * n)) / n)) / (1 + z * z / n)"
   ]
  },
  {
   "cell_type": "markdown",
   "metadata": {
    "papermill": {
     "duration": 0.008781,
     "end_time": "2022-11-01T10:41:36.349111",
     "exception": false,
     "start_time": "2022-11-01T10:41:36.340330",
     "status": "completed"
    },
    "tags": []
   },
   "source": [
    "**Scores were created using the defined functions and added to the dataframe.**"
   ]
  },
  {
   "cell_type": "code",
   "execution_count": 18,
   "metadata": {
    "execution": {
     "iopub.execute_input": "2022-11-01T10:41:36.368853Z",
     "iopub.status.busy": "2022-11-01T10:41:36.368179Z",
     "iopub.status.idle": "2022-11-01T10:41:36.596621Z",
     "shell.execute_reply": "2022-11-01T10:41:36.595193Z"
    },
    "papermill": {
     "duration": 0.241717,
     "end_time": "2022-11-01T10:41:36.599556",
     "exception": false,
     "start_time": "2022-11-01T10:41:36.357839",
     "status": "completed"
    },
    "tags": []
   },
   "outputs": [],
   "source": [
    "df[\"score_pos_neg_diff\"] = score_pos_neg_diff(df[\"helpful_yes\"], df[\"helpful_no\"]) \n",
    "\n",
    "df[\"score_average_rating\"] = df.apply(lambda x : score_average_rating(x[\"helpful_yes\"], x[\"helpful_no\"]), axis=1)\n",
    "\n",
    "df[\"wilson_lower_bound\"] = df.apply(lambda x : wilson_lower_bound(x[\"helpful_yes\"],x[\"helpful_no\"]), axis=1)"
   ]
  },
  {
   "cell_type": "markdown",
   "metadata": {
    "papermill": {
     "duration": 0.008261,
     "end_time": "2022-11-01T10:41:36.616571",
     "exception": false,
     "start_time": "2022-11-01T10:41:36.608310",
     "status": "completed"
    },
    "tags": []
   },
   "source": [
    "**Reviews are sorted by score_pos_neg_diff.**"
   ]
  },
  {
   "cell_type": "code",
   "execution_count": 19,
   "metadata": {
    "execution": {
     "iopub.execute_input": "2022-11-01T10:41:36.635879Z",
     "iopub.status.busy": "2022-11-01T10:41:36.635423Z",
     "iopub.status.idle": "2022-11-01T10:41:36.655273Z",
     "shell.execute_reply": "2022-11-01T10:41:36.654090Z"
    },
    "papermill": {
     "duration": 0.032317,
     "end_time": "2022-11-01T10:41:36.657602",
     "exception": false,
     "start_time": "2022-11-01T10:41:36.625285",
     "status": "completed"
    },
    "tags": []
   },
   "outputs": [
    {
     "data": {
      "text/html": [
       "<div>\n",
       "<style scoped>\n",
       "    .dataframe tbody tr th:only-of-type {\n",
       "        vertical-align: middle;\n",
       "    }\n",
       "\n",
       "    .dataframe tbody tr th {\n",
       "        vertical-align: top;\n",
       "    }\n",
       "\n",
       "    .dataframe thead th {\n",
       "        text-align: right;\n",
       "    }\n",
       "</style>\n",
       "<table border=\"1\" class=\"dataframe\">\n",
       "  <thead>\n",
       "    <tr style=\"text-align: right;\">\n",
       "      <th></th>\n",
       "      <th>reviewText</th>\n",
       "      <th>overall</th>\n",
       "      <th>reviewTime</th>\n",
       "      <th>day_diff</th>\n",
       "      <th>helpful_yes</th>\n",
       "      <th>total_vote</th>\n",
       "      <th>helpful_no</th>\n",
       "      <th>score_pos_neg_diff</th>\n",
       "      <th>score_average_rating</th>\n",
       "      <th>wilson_lower_bound</th>\n",
       "    </tr>\n",
       "  </thead>\n",
       "  <tbody>\n",
       "    <tr>\n",
       "      <th>2031</th>\n",
       "      <td>[[ UPDATE - 6/19/2014 ]]So my lovely wife boug...</td>\n",
       "      <td>5.0</td>\n",
       "      <td>2013-01-05</td>\n",
       "      <td>702</td>\n",
       "      <td>1952</td>\n",
       "      <td>2020</td>\n",
       "      <td>68</td>\n",
       "      <td>1884</td>\n",
       "      <td>0.966337</td>\n",
       "      <td>0.957544</td>\n",
       "    </tr>\n",
       "    <tr>\n",
       "      <th>4212</th>\n",
       "      <td>NOTE:  please read the last update (scroll to ...</td>\n",
       "      <td>1.0</td>\n",
       "      <td>2013-05-08</td>\n",
       "      <td>579</td>\n",
       "      <td>1568</td>\n",
       "      <td>1694</td>\n",
       "      <td>126</td>\n",
       "      <td>1442</td>\n",
       "      <td>0.925620</td>\n",
       "      <td>0.912139</td>\n",
       "    </tr>\n",
       "    <tr>\n",
       "      <th>3449</th>\n",
       "      <td>I have tested dozens of SDHC and micro-SDHC ca...</td>\n",
       "      <td>5.0</td>\n",
       "      <td>2012-09-26</td>\n",
       "      <td>803</td>\n",
       "      <td>1428</td>\n",
       "      <td>1505</td>\n",
       "      <td>77</td>\n",
       "      <td>1351</td>\n",
       "      <td>0.948837</td>\n",
       "      <td>0.936519</td>\n",
       "    </tr>\n",
       "    <tr>\n",
       "      <th>317</th>\n",
       "      <td>If your card gets hot enough to be painful, it...</td>\n",
       "      <td>1.0</td>\n",
       "      <td>2012-02-09</td>\n",
       "      <td>1033</td>\n",
       "      <td>422</td>\n",
       "      <td>495</td>\n",
       "      <td>73</td>\n",
       "      <td>349</td>\n",
       "      <td>0.852525</td>\n",
       "      <td>0.818577</td>\n",
       "    </tr>\n",
       "    <tr>\n",
       "      <th>3981</th>\n",
       "      <td>The last few days I have been diligently shopp...</td>\n",
       "      <td>5.0</td>\n",
       "      <td>2012-10-22</td>\n",
       "      <td>777</td>\n",
       "      <td>112</td>\n",
       "      <td>139</td>\n",
       "      <td>27</td>\n",
       "      <td>85</td>\n",
       "      <td>0.805755</td>\n",
       "      <td>0.732136</td>\n",
       "    </tr>\n",
       "  </tbody>\n",
       "</table>\n",
       "</div>"
      ],
      "text/plain": [
       "                                             reviewText  overall  reviewTime  \\\n",
       "2031  [[ UPDATE - 6/19/2014 ]]So my lovely wife boug...      5.0  2013-01-05   \n",
       "4212  NOTE:  please read the last update (scroll to ...      1.0  2013-05-08   \n",
       "3449  I have tested dozens of SDHC and micro-SDHC ca...      5.0  2012-09-26   \n",
       "317   If your card gets hot enough to be painful, it...      1.0  2012-02-09   \n",
       "3981  The last few days I have been diligently shopp...      5.0  2012-10-22   \n",
       "\n",
       "      day_diff  helpful_yes  total_vote  helpful_no  score_pos_neg_diff  \\\n",
       "2031       702         1952        2020          68                1884   \n",
       "4212       579         1568        1694         126                1442   \n",
       "3449       803         1428        1505          77                1351   \n",
       "317       1033          422         495          73                 349   \n",
       "3981       777          112         139          27                  85   \n",
       "\n",
       "      score_average_rating  wilson_lower_bound  \n",
       "2031              0.966337            0.957544  \n",
       "4212              0.925620            0.912139  \n",
       "3449              0.948837            0.936519  \n",
       "317               0.852525            0.818577  \n",
       "3981              0.805755            0.732136  "
      ]
     },
     "execution_count": 19,
     "metadata": {},
     "output_type": "execute_result"
    }
   ],
   "source": [
    "df_pos_neg_diff = df.sort_values(\"score_pos_neg_diff\", ascending = False)\n",
    "df_pos_neg_diff.loc[:, ~df.columns.isin(['unixReviewTime', 'asin',\"summary\",\"reviewerName\",\"reviewerID\",\"helpful\"])].head()"
   ]
  },
  {
   "cell_type": "markdown",
   "metadata": {
    "papermill": {
     "duration": 0.008625,
     "end_time": "2022-11-01T10:41:36.675032",
     "exception": false,
     "start_time": "2022-11-01T10:41:36.666407",
     "status": "completed"
    },
    "tags": []
   },
   "source": [
    "**Reviews are sorted by score_average_rating.**"
   ]
  },
  {
   "cell_type": "code",
   "execution_count": 20,
   "metadata": {
    "execution": {
     "iopub.execute_input": "2022-11-01T10:41:36.695090Z",
     "iopub.status.busy": "2022-11-01T10:41:36.694279Z",
     "iopub.status.idle": "2022-11-01T10:41:36.714608Z",
     "shell.execute_reply": "2022-11-01T10:41:36.713406Z"
    },
    "papermill": {
     "duration": 0.033393,
     "end_time": "2022-11-01T10:41:36.717309",
     "exception": false,
     "start_time": "2022-11-01T10:41:36.683916",
     "status": "completed"
    },
    "tags": []
   },
   "outputs": [
    {
     "data": {
      "text/html": [
       "<div>\n",
       "<style scoped>\n",
       "    .dataframe tbody tr th:only-of-type {\n",
       "        vertical-align: middle;\n",
       "    }\n",
       "\n",
       "    .dataframe tbody tr th {\n",
       "        vertical-align: top;\n",
       "    }\n",
       "\n",
       "    .dataframe thead th {\n",
       "        text-align: right;\n",
       "    }\n",
       "</style>\n",
       "<table border=\"1\" class=\"dataframe\">\n",
       "  <thead>\n",
       "    <tr style=\"text-align: right;\">\n",
       "      <th></th>\n",
       "      <th>reviewText</th>\n",
       "      <th>overall</th>\n",
       "      <th>reviewTime</th>\n",
       "      <th>day_diff</th>\n",
       "      <th>helpful_yes</th>\n",
       "      <th>total_vote</th>\n",
       "      <th>helpful_no</th>\n",
       "      <th>score_pos_neg_diff</th>\n",
       "      <th>score_average_rating</th>\n",
       "      <th>wilson_lower_bound</th>\n",
       "    </tr>\n",
       "  </thead>\n",
       "  <tbody>\n",
       "    <tr>\n",
       "      <th>4277</th>\n",
       "      <td>I have a galaxy note II and after rooting I no...</td>\n",
       "      <td>5.0</td>\n",
       "      <td>2012-12-19</td>\n",
       "      <td>719</td>\n",
       "      <td>1</td>\n",
       "      <td>1</td>\n",
       "      <td>0</td>\n",
       "      <td>1</td>\n",
       "      <td>1.0</td>\n",
       "      <td>0.206549</td>\n",
       "    </tr>\n",
       "    <tr>\n",
       "      <th>2881</th>\n",
       "      <td>The Nexus One is listed as supporting a maximu...</td>\n",
       "      <td>5.0</td>\n",
       "      <td>2012-01-10</td>\n",
       "      <td>1063</td>\n",
       "      <td>1</td>\n",
       "      <td>1</td>\n",
       "      <td>0</td>\n",
       "      <td>1</td>\n",
       "      <td>1.0</td>\n",
       "      <td>0.206549</td>\n",
       "    </tr>\n",
       "    <tr>\n",
       "      <th>1073</th>\n",
       "      <td>I used it with my Samsung S4 and it works grea...</td>\n",
       "      <td>5.0</td>\n",
       "      <td>2013-08-13</td>\n",
       "      <td>482</td>\n",
       "      <td>1</td>\n",
       "      <td>1</td>\n",
       "      <td>0</td>\n",
       "      <td>1</td>\n",
       "      <td>1.0</td>\n",
       "      <td>0.206549</td>\n",
       "    </tr>\n",
       "    <tr>\n",
       "      <th>445</th>\n",
       "      <td>This is exactly what I was looking for to upgr...</td>\n",
       "      <td>4.0</td>\n",
       "      <td>2013-12-18</td>\n",
       "      <td>355</td>\n",
       "      <td>1</td>\n",
       "      <td>1</td>\n",
       "      <td>0</td>\n",
       "      <td>1</td>\n",
       "      <td>1.0</td>\n",
       "      <td>0.206549</td>\n",
       "    </tr>\n",
       "    <tr>\n",
       "      <th>3923</th>\n",
       "      <td>It's a SanDisk, so what more is there to say? ...</td>\n",
       "      <td>5.0</td>\n",
       "      <td>2013-12-30</td>\n",
       "      <td>343</td>\n",
       "      <td>1</td>\n",
       "      <td>1</td>\n",
       "      <td>0</td>\n",
       "      <td>1</td>\n",
       "      <td>1.0</td>\n",
       "      <td>0.206549</td>\n",
       "    </tr>\n",
       "  </tbody>\n",
       "</table>\n",
       "</div>"
      ],
      "text/plain": [
       "                                             reviewText  overall  reviewTime  \\\n",
       "4277  I have a galaxy note II and after rooting I no...      5.0  2012-12-19   \n",
       "2881  The Nexus One is listed as supporting a maximu...      5.0  2012-01-10   \n",
       "1073  I used it with my Samsung S4 and it works grea...      5.0  2013-08-13   \n",
       "445   This is exactly what I was looking for to upgr...      4.0  2013-12-18   \n",
       "3923  It's a SanDisk, so what more is there to say? ...      5.0  2013-12-30   \n",
       "\n",
       "      day_diff  helpful_yes  total_vote  helpful_no  score_pos_neg_diff  \\\n",
       "4277       719            1           1           0                   1   \n",
       "2881      1063            1           1           0                   1   \n",
       "1073       482            1           1           0                   1   \n",
       "445        355            1           1           0                   1   \n",
       "3923       343            1           1           0                   1   \n",
       "\n",
       "      score_average_rating  wilson_lower_bound  \n",
       "4277                   1.0            0.206549  \n",
       "2881                   1.0            0.206549  \n",
       "1073                   1.0            0.206549  \n",
       "445                    1.0            0.206549  \n",
       "3923                   1.0            0.206549  "
      ]
     },
     "execution_count": 20,
     "metadata": {},
     "output_type": "execute_result"
    }
   ],
   "source": [
    "df_avg_rating = df.sort_values(\"score_average_rating\", ascending = False)\n",
    "df_avg_rating.loc[:, ~df.columns.isin(['unixReviewTime', 'asin',\"summary\",\"reviewerName\",\"reviewerID\",\"helpful\"])].head()"
   ]
  },
  {
   "cell_type": "markdown",
   "metadata": {
    "papermill": {
     "duration": 0.008922,
     "end_time": "2022-11-01T10:41:36.735619",
     "exception": false,
     "start_time": "2022-11-01T10:41:36.726697",
     "status": "completed"
    },
    "tags": []
   },
   "source": [
    "**Reviews are sorted by wilson_lower_bound**"
   ]
  },
  {
   "cell_type": "code",
   "execution_count": 21,
   "metadata": {
    "execution": {
     "iopub.execute_input": "2022-11-01T10:41:36.755569Z",
     "iopub.status.busy": "2022-11-01T10:41:36.755176Z",
     "iopub.status.idle": "2022-11-01T10:41:36.775801Z",
     "shell.execute_reply": "2022-11-01T10:41:36.774539Z"
    },
    "papermill": {
     "duration": 0.033653,
     "end_time": "2022-11-01T10:41:36.778315",
     "exception": false,
     "start_time": "2022-11-01T10:41:36.744662",
     "status": "completed"
    },
    "tags": []
   },
   "outputs": [
    {
     "data": {
      "text/html": [
       "<div>\n",
       "<style scoped>\n",
       "    .dataframe tbody tr th:only-of-type {\n",
       "        vertical-align: middle;\n",
       "    }\n",
       "\n",
       "    .dataframe tbody tr th {\n",
       "        vertical-align: top;\n",
       "    }\n",
       "\n",
       "    .dataframe thead th {\n",
       "        text-align: right;\n",
       "    }\n",
       "</style>\n",
       "<table border=\"1\" class=\"dataframe\">\n",
       "  <thead>\n",
       "    <tr style=\"text-align: right;\">\n",
       "      <th></th>\n",
       "      <th>reviewText</th>\n",
       "      <th>overall</th>\n",
       "      <th>reviewTime</th>\n",
       "      <th>day_diff</th>\n",
       "      <th>helpful_yes</th>\n",
       "      <th>total_vote</th>\n",
       "      <th>helpful_no</th>\n",
       "      <th>score_pos_neg_diff</th>\n",
       "      <th>score_average_rating</th>\n",
       "      <th>wilson_lower_bound</th>\n",
       "    </tr>\n",
       "  </thead>\n",
       "  <tbody>\n",
       "    <tr>\n",
       "      <th>2031</th>\n",
       "      <td>[[ UPDATE - 6/19/2014 ]]So my lovely wife boug...</td>\n",
       "      <td>5.0</td>\n",
       "      <td>2013-01-05</td>\n",
       "      <td>702</td>\n",
       "      <td>1952</td>\n",
       "      <td>2020</td>\n",
       "      <td>68</td>\n",
       "      <td>1884</td>\n",
       "      <td>0.966337</td>\n",
       "      <td>0.957544</td>\n",
       "    </tr>\n",
       "    <tr>\n",
       "      <th>3449</th>\n",
       "      <td>I have tested dozens of SDHC and micro-SDHC ca...</td>\n",
       "      <td>5.0</td>\n",
       "      <td>2012-09-26</td>\n",
       "      <td>803</td>\n",
       "      <td>1428</td>\n",
       "      <td>1505</td>\n",
       "      <td>77</td>\n",
       "      <td>1351</td>\n",
       "      <td>0.948837</td>\n",
       "      <td>0.936519</td>\n",
       "    </tr>\n",
       "    <tr>\n",
       "      <th>4212</th>\n",
       "      <td>NOTE:  please read the last update (scroll to ...</td>\n",
       "      <td>1.0</td>\n",
       "      <td>2013-05-08</td>\n",
       "      <td>579</td>\n",
       "      <td>1568</td>\n",
       "      <td>1694</td>\n",
       "      <td>126</td>\n",
       "      <td>1442</td>\n",
       "      <td>0.925620</td>\n",
       "      <td>0.912139</td>\n",
       "    </tr>\n",
       "    <tr>\n",
       "      <th>317</th>\n",
       "      <td>If your card gets hot enough to be painful, it...</td>\n",
       "      <td>1.0</td>\n",
       "      <td>2012-02-09</td>\n",
       "      <td>1033</td>\n",
       "      <td>422</td>\n",
       "      <td>495</td>\n",
       "      <td>73</td>\n",
       "      <td>349</td>\n",
       "      <td>0.852525</td>\n",
       "      <td>0.818577</td>\n",
       "    </tr>\n",
       "    <tr>\n",
       "      <th>4672</th>\n",
       "      <td>Sandisk announcement of the first 128GB micro ...</td>\n",
       "      <td>5.0</td>\n",
       "      <td>2014-07-03</td>\n",
       "      <td>158</td>\n",
       "      <td>45</td>\n",
       "      <td>49</td>\n",
       "      <td>4</td>\n",
       "      <td>41</td>\n",
       "      <td>0.918367</td>\n",
       "      <td>0.808109</td>\n",
       "    </tr>\n",
       "  </tbody>\n",
       "</table>\n",
       "</div>"
      ],
      "text/plain": [
       "                                             reviewText  overall  reviewTime  \\\n",
       "2031  [[ UPDATE - 6/19/2014 ]]So my lovely wife boug...      5.0  2013-01-05   \n",
       "3449  I have tested dozens of SDHC and micro-SDHC ca...      5.0  2012-09-26   \n",
       "4212  NOTE:  please read the last update (scroll to ...      1.0  2013-05-08   \n",
       "317   If your card gets hot enough to be painful, it...      1.0  2012-02-09   \n",
       "4672  Sandisk announcement of the first 128GB micro ...      5.0  2014-07-03   \n",
       "\n",
       "      day_diff  helpful_yes  total_vote  helpful_no  score_pos_neg_diff  \\\n",
       "2031       702         1952        2020          68                1884   \n",
       "3449       803         1428        1505          77                1351   \n",
       "4212       579         1568        1694         126                1442   \n",
       "317       1033          422         495          73                 349   \n",
       "4672       158           45          49           4                  41   \n",
       "\n",
       "      score_average_rating  wilson_lower_bound  \n",
       "2031              0.966337            0.957544  \n",
       "3449              0.948837            0.936519  \n",
       "4212              0.925620            0.912139  \n",
       "317               0.852525            0.818577  \n",
       "4672              0.918367            0.808109  "
      ]
     },
     "execution_count": 21,
     "metadata": {},
     "output_type": "execute_result"
    }
   ],
   "source": [
    "df_wilson = df.sort_values(\"wilson_lower_bound\", ascending = False)\n",
    "df_wilson.loc[:, ~df.columns.isin(['unixReviewTime', 'asin',\"summary\",\"reviewerName\",\"reviewerID\",\"helpful\"])].head()"
   ]
  }
 ],
 "metadata": {
  "kernelspec": {
   "display_name": "Python 3",
   "language": "python",
   "name": "python3"
  },
  "language_info": {
   "codemirror_mode": {
    "name": "ipython",
    "version": 3
   },
   "file_extension": ".py",
   "mimetype": "text/x-python",
   "name": "python",
   "nbconvert_exporter": "python",
   "pygments_lexer": "ipython3",
   "version": "3.7.6"
  },
  "papermill": {
   "default_parameters": {},
   "duration": 11.860999,
   "end_time": "2022-11-01T10:41:37.510264",
   "environment_variables": {},
   "exception": null,
   "input_path": "__notebook__.ipynb",
   "output_path": "__notebook__.ipynb",
   "parameters": {},
   "start_time": "2022-11-01T10:41:25.649265",
   "version": "2.3.4"
  }
 },
 "nbformat": 4,
 "nbformat_minor": 5
}
